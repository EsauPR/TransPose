{
 "cells": [
  {
   "cell_type": "code",
   "execution_count": 1,
   "id": "4da39f71-e2b9-48ef-a2a1-fb1dd76e86a6",
   "metadata": {},
   "outputs": [],
   "source": [
    "%load_ext tensorboard"
   ]
  },
  {
   "cell_type": "code",
   "execution_count": 4,
   "id": "784324a0-e445-4e42-a44c-3b8f18d6a630",
   "metadata": {},
   "outputs": [],
   "source": [
    "# Model original\n",
    "# ./log/coco/transpose_r/TP_R_256x192_d256_h1024_enc4_mh8_2021-06-02-14-22"
   ]
  },
  {
   "cell_type": "code",
   "execution_count": 5,
   "id": "ac151451-0ae9-4af6-89e0-4471660f8d5e",
   "metadata": {},
   "outputs": [
    {
     "data": {
      "text/html": [
       "\n",
       "      <iframe id=\"tensorboard-frame-99bc1fb9c7b47fdc\" width=\"100%\" height=\"800\" frameborder=\"0\">\n",
       "      </iframe>\n",
       "      <script>\n",
       "        (function() {\n",
       "          const frame = document.getElementById(\"tensorboard-frame-99bc1fb9c7b47fdc\");\n",
       "          const url = new URL(\"/\", window.location);\n",
       "          const port = 6007;\n",
       "          if (port) {\n",
       "            url.port = port;\n",
       "          }\n",
       "          frame.src = url;\n",
       "        })();\n",
       "      </script>\n",
       "    "
      ],
      "text/plain": [
       "<IPython.core.display.HTML object>"
      ]
     },
     "metadata": {},
     "output_type": "display_data"
    }
   ],
   "source": [
    "# %tensorboard --logdir ./log/coco/transpose_r/TP_R_256x192_d256_h1024_enc4_mh8_2021-06-02-14-22"
   ]
  },
  {
   "cell_type": "code",
   "execution_count": 3,
   "id": "1fed4f35-c3ed-4460-aa05-156b4b67cf49",
   "metadata": {},
   "outputs": [
    {
     "data": {
      "text/html": [
       "\n",
       "      <iframe id=\"tensorboard-frame-725a23f4df1c8103\" width=\"100%\" height=\"800\" frameborder=\"0\">\n",
       "      </iframe>\n",
       "      <script>\n",
       "        (function() {\n",
       "          const frame = document.getElementById(\"tensorboard-frame-725a23f4df1c8103\");\n",
       "          const url = new URL(\"/\", window.location);\n",
       "          const port = 6006;\n",
       "          if (port) {\n",
       "            url.port = port;\n",
       "          }\n",
       "          frame.src = url;\n",
       "        })();\n",
       "      </script>\n",
       "    "
      ],
      "text/plain": [
       "<IPython.core.display.HTML object>"
      ]
     },
     "metadata": {},
     "output_type": "display_data"
    }
   ],
   "source": [
    "%tensorboard --logdir ./log/coco/transpose_r/TP_R_256x192_d256_h1024_enc4_mh8_2021-06-08-13-52"
   ]
  },
  {
   "cell_type": "code",
   "execution_count": null,
   "id": "1ad25424-7d0b-4392-bfb1-c6715363604d",
   "metadata": {},
   "outputs": [],
   "source": []
  }
 ],
 "metadata": {
  "kernelspec": {
   "display_name": "Python 3",
   "language": "python",
   "name": "python3"
  },
  "language_info": {
   "codemirror_mode": {
    "name": "ipython",
    "version": 3
   },
   "file_extension": ".py",
   "mimetype": "text/x-python",
   "name": "python",
   "nbconvert_exporter": "python",
   "pygments_lexer": "ipython3",
   "version": "3.8.10"
  }
 },
 "nbformat": 4,
 "nbformat_minor": 5
}
